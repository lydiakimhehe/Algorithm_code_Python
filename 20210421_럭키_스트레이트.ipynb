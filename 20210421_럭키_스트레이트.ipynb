{
 "cells": [
  {
   "cell_type": "code",
   "execution_count": 4,
   "metadata": {},
   "outputs": [],
   "source": [
    "def check_lucky():\n",
    "    num_input = input()\n",
    "\n",
    "    num_len=len(num_input)\n",
    "\n",
    "\n",
    "    count1=0\n",
    "    count2=0\n",
    "\n",
    "    for i in range(num_len):\n",
    "        if i < (num_len/2):\n",
    "            count1+= int(num_input[i])\n",
    "        else:\n",
    "            count2+= int(num_input[i])\n",
    "\n",
    "    if count1 == count2:\n",
    "        print(\"LUCKY\")\n",
    "    else:\n",
    "        print(\"READY\")"
   ]
  },
  {
   "cell_type": "code",
   "execution_count": 5,
   "metadata": {},
   "outputs": [
    {
     "name": "stdout",
     "output_type": "stream",
     "text": [
      "123402\n",
      "LUCKY\n"
     ]
    }
   ],
   "source": [
    "check_lucky()"
   ]
  },
  {
   "cell_type": "code",
   "execution_count": 6,
   "metadata": {},
   "outputs": [
    {
     "name": "stdout",
     "output_type": "stream",
     "text": [
      "7755\n",
      "READY\n"
     ]
    }
   ],
   "source": [
    "check_lucky()"
   ]
  },
  {
   "cell_type": "code",
   "execution_count": 8,
   "metadata": {},
   "outputs": [
    {
     "name": "stdout",
     "output_type": "stream",
     "text": [
      "123321\n",
      "LUCKY\n"
     ]
    }
   ],
   "source": [
    "check_lucky()"
   ]
  }
 ],
 "metadata": {
  "kernelspec": {
   "display_name": "Python 3",
   "language": "python",
   "name": "python3"
  },
  "language_info": {
   "codemirror_mode": {
    "name": "ipython",
    "version": 3
   },
   "file_extension": ".py",
   "mimetype": "text/x-python",
   "name": "python",
   "nbconvert_exporter": "python",
   "pygments_lexer": "ipython3",
   "version": "3.7.5"
  }
 },
 "nbformat": 4,
 "nbformat_minor": 4
}
