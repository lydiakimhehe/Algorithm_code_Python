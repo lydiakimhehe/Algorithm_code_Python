{
 "cells": [
  {
   "cell_type": "code",
   "execution_count": 8,
   "metadata": {},
   "outputs": [],
   "source": [
    "def sorting_characters():\n",
    "    num_input = input()\n",
    "\n",
    "    result =[]\n",
    "    num_sum =0 \n",
    "    for i in num_input:\n",
    "        if i.isdigit():\n",
    "            num_sum+=int(i)\n",
    "        else:\n",
    "            result.append(i)\n",
    "    result.sort()\n",
    "    print(''.join(result)+str(num_sum))"
   ]
  },
  {
   "cell_type": "code",
   "execution_count": 9,
   "metadata": {},
   "outputs": [
    {
     "name": "stdout",
     "output_type": "stream",
     "text": [
      "K1KA5CB7\n",
      "ABCKK13\n"
     ]
    }
   ],
   "source": [
    "sorting_characters()"
   ]
  },
  {
   "cell_type": "code",
   "execution_count": 10,
   "metadata": {},
   "outputs": [
    {
     "name": "stdout",
     "output_type": "stream",
     "text": [
      "AJKDLSI412K4JSJ9D\n",
      "ADDIJJJKKLSS20\n"
     ]
    }
   ],
   "source": [
    "sorting_characters()"
   ]
  }
 ],
 "metadata": {
  "kernelspec": {
   "display_name": "Python 3",
   "language": "python",
   "name": "python3"
  },
  "language_info": {
   "codemirror_mode": {
    "name": "ipython",
    "version": 3
   },
   "file_extension": ".py",
   "mimetype": "text/x-python",
   "name": "python",
   "nbconvert_exporter": "python",
   "pygments_lexer": "ipython3",
   "version": "3.7.5"
  }
 },
 "nbformat": 4,
 "nbformat_minor": 4
}
