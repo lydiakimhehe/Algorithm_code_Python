{
 "cells": [
  {
   "cell_type": "code",
   "execution_count": 17,
   "metadata": {},
   "outputs": [],
   "source": [
    "def change_string():\n",
    "    num_input = input()\n",
    "\n",
    "    case0 =0 ## 0으로 바꾸는 케이스 \n",
    "    case1 = 0 ## 1로 바꾸는 케이스 \n",
    "\n",
    "\n",
    "    for i in range(len(num_input)-1):\n",
    "        if num_input[i]==num_input[i+1]:\n",
    "            if i+2 ==len(num_input):\n",
    "                if num_input[i]=='0':\n",
    "                    case1+=1\n",
    "                else:\n",
    "                    case0+=1\n",
    "            pass\n",
    "        else:\n",
    "            if num_input[i] =='1':\n",
    "                case0+=1\n",
    "            else:\n",
    "                case1+=1\n",
    "    print(\"Change to all 0: \", case0)\n",
    "    print(\"Change to all 1: \", case1)\n",
    "\n",
    "    print(\"Minimun chage count :\", min(case0,case1) )"
   ]
  },
  {
   "cell_type": "code",
   "execution_count": 18,
   "metadata": {},
   "outputs": [
    {
     "name": "stdout",
     "output_type": "stream",
     "text": [
      "0001100\n",
      "Change to all 0:  1\n",
      "Change to all 1:  2\n",
      "Minimun chage count : 1\n"
     ]
    }
   ],
   "source": [
    "change_string()"
   ]
  },
  {
   "cell_type": "code",
   "execution_count": 20,
   "metadata": {},
   "outputs": [
    {
     "name": "stdout",
     "output_type": "stream",
     "text": [
      "110011011\n",
      "Change to all 0:  3\n",
      "Change to all 1:  2\n",
      "Minimun chage count : 2\n"
     ]
    }
   ],
   "source": [
    "change_string()"
   ]
  }
 ],
 "metadata": {
  "kernelspec": {
   "display_name": "Python 3",
   "language": "python",
   "name": "python3"
  },
  "language_info": {
   "codemirror_mode": {
    "name": "ipython",
    "version": 3
   },
   "file_extension": ".py",
   "mimetype": "text/x-python",
   "name": "python",
   "nbconvert_exporter": "python",
   "pygments_lexer": "ipython3",
   "version": "3.7.5"
  }
 },
 "nbformat": 4,
 "nbformat_minor": 4
}
