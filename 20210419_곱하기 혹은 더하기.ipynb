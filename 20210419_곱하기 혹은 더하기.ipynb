{
 "cells": [
  {
   "cell_type": "code",
   "execution_count": 6,
   "metadata": {},
   "outputs": [],
   "source": [
    "def multiple_add():\n",
    "    num_string = input(\"Insert numbers:\")\n",
    "    result =0 \n",
    "    for i in num_string:\n",
    "        i = int(i)\n",
    "        if not result:\n",
    "            result = i\n",
    "        else:\n",
    "            if not i:\n",
    "                result+=i\n",
    "            else:\n",
    "                result*=i\n",
    "    print(\"result: \",result)"
   ]
  },
  {
   "cell_type": "code",
   "execution_count": 7,
   "metadata": {},
   "outputs": [
    {
     "name": "stdout",
     "output_type": "stream",
     "text": [
      "Insert numbers:02984\n",
      "result:  576\n"
     ]
    }
   ],
   "source": [
    "multiple_add()"
   ]
  },
  {
   "cell_type": "code",
   "execution_count": 8,
   "metadata": {},
   "outputs": [
    {
     "name": "stdout",
     "output_type": "stream",
     "text": [
      "Insert numbers:567\n",
      "result:  210\n"
     ]
    }
   ],
   "source": [
    "multiple_add()"
   ]
  }
 ],
 "metadata": {
  "kernelspec": {
   "display_name": "Python 3",
   "language": "python",
   "name": "python3"
  },
  "language_info": {
   "codemirror_mode": {
    "name": "ipython",
    "version": 3
   },
   "file_extension": ".py",
   "mimetype": "text/x-python",
   "name": "python",
   "nbconvert_exporter": "python",
   "pygments_lexer": "ipython3",
   "version": "3.7.5"
  }
 },
 "nbformat": 4,
 "nbformat_minor": 4
}
