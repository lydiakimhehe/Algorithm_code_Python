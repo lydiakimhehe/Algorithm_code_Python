{
 "cells": [
  {
   "cell_type": "code",
   "execution_count": 15,
   "metadata": {},
   "outputs": [
    {
     "name": "stdout",
     "output_type": "stream",
     "text": [
      "Insert 모험가 Number:6\n",
      "Insert group list4 4 3 2 1 1\n",
      "3\n"
     ]
    }
   ],
   "source": [
    "Num = int(input(\"Insert 모험가 Number:\"))\n",
    "\n",
    "while 1:\n",
    "    group_list = list(map(int,input(\"Insert group list\").split()))\n",
    "    \n",
    "    if len(group_list)!=Num:\n",
    "        continue\n",
    "    \n",
    "    group_list.sort()\n",
    "\n",
    "    ppl =0\n",
    "    result =0 \n",
    "    for i in group_list:\n",
    "        ppl +=1\n",
    "        if ppl >=i:\n",
    "            result +=1\n",
    "            ppl=0\n",
    "    print(result)\n",
    "    break"
   ]
  }
 ],
 "metadata": {
  "kernelspec": {
   "display_name": "Python 3",
   "language": "python",
   "name": "python3"
  },
  "language_info": {
   "codemirror_mode": {
    "name": "ipython",
    "version": 3
   },
   "file_extension": ".py",
   "mimetype": "text/x-python",
   "name": "python",
   "nbconvert_exporter": "python",
   "pygments_lexer": "ipython3",
   "version": "3.7.5"
  }
 },
 "nbformat": 4,
 "nbformat_minor": 4
}
