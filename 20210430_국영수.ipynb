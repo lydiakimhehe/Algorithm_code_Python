{
 "cells": [
  {
   "cell_type": "code",
   "execution_count": 25,
   "metadata": {},
   "outputs": [],
   "source": [
    "import sys "
   ]
  },
  {
   "cell_type": "code",
   "execution_count": 28,
   "metadata": {},
   "outputs": [
    {
     "name": "stdout",
     "output_type": "stream",
     "text": [
      "12\n"
     ]
    }
   ],
   "source": [
    "sys.stdin = open(\"input.txt\",'r')\n",
    "num = int(input())\n",
    "name_score_list = []"
   ]
  },
  {
   "cell_type": "code",
   "execution_count": 29,
   "metadata": {},
   "outputs": [],
   "source": [
    "for _ in range(num):\n",
    "    name_score_list.append(sys.stdin.readline().split())"
   ]
  },
  {
   "cell_type": "code",
   "execution_count": 30,
   "metadata": {},
   "outputs": [
    {
     "data": {
      "text/plain": [
       "[['Junkyu', '50', '60', '100'],\n",
       " ['Sangkeun', '80', '60', '50'],\n",
       " ['Sungyiung', '80', '70', '100'],\n",
       " ['Soong', '50', '60', '90'],\n",
       " ['Haebin', '50', '60', '100'],\n",
       " ['Kangsoo', '60', '80', '100'],\n",
       " ['Donghyuk', '80', '60', '100'],\n",
       " ['Sei', '70', '70', '70'],\n",
       " ['Wonseob', '70', '70', '90'],\n",
       " ['Sanghyun', '70', '70', '80'],\n",
       " ['nsj', '80', '80', '80'],\n",
       " ['Taewhan', '50', '60', '90']]"
      ]
     },
     "execution_count": 30,
     "metadata": {},
     "output_type": "execute_result"
    }
   ],
   "source": [
    "name_score_list"
   ]
  },
  {
   "cell_type": "code",
   "execution_count": 31,
   "metadata": {},
   "outputs": [],
   "source": [
    "name_score_list.sort(key=lambda x: (-int(x[1]), int(x[2]), -int(x[3]), x[0]))"
   ]
  },
  {
   "cell_type": "code",
   "execution_count": 32,
   "metadata": {},
   "outputs": [
    {
     "data": {
      "text/plain": [
       "[['Donghyuk', '80', '60', '100'],\n",
       " ['Sangkeun', '80', '60', '50'],\n",
       " ['Sungyiung', '80', '70', '100'],\n",
       " ['nsj', '80', '80', '80'],\n",
       " ['Wonseob', '70', '70', '90'],\n",
       " ['Sanghyun', '70', '70', '80'],\n",
       " ['Sei', '70', '70', '70'],\n",
       " ['Kangsoo', '60', '80', '100'],\n",
       " ['Haebin', '50', '60', '100'],\n",
       " ['Junkyu', '50', '60', '100'],\n",
       " ['Soong', '50', '60', '90'],\n",
       " ['Taewhan', '50', '60', '90']]"
      ]
     },
     "execution_count": 32,
     "metadata": {},
     "output_type": "execute_result"
    }
   ],
   "source": [
    "name_score_list"
   ]
  },
  {
   "cell_type": "code",
   "execution_count": 33,
   "metadata": {},
   "outputs": [
    {
     "name": "stdout",
     "output_type": "stream",
     "text": [
      "Donghyuk\n",
      "Sangkeun\n",
      "Sungyiung\n",
      "nsj\n",
      "Wonseob\n",
      "Sanghyun\n",
      "Sei\n",
      "Kangsoo\n",
      "Haebin\n",
      "Junkyu\n",
      "Soong\n",
      "Taewhan\n"
     ]
    }
   ],
   "source": [
    "for i in name_score_list:\n",
    "    print(i[0])"
   ]
  }
 ],
 "metadata": {
  "kernelspec": {
   "display_name": "Python 3",
   "language": "python",
   "name": "python3"
  },
  "language_info": {
   "codemirror_mode": {
    "name": "ipython",
    "version": 3
   },
   "file_extension": ".py",
   "mimetype": "text/x-python",
   "name": "python",
   "nbconvert_exporter": "python",
   "pygments_lexer": "ipython3",
   "version": "3.7.5"
  }
 },
 "nbformat": 4,
 "nbformat_minor": 4
}
